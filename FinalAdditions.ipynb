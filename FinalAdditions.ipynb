{
 "cells": [
  {
   "cell_type": "code",
   "execution_count": 3,
   "id": "ee8f2bc3-8e84-44e3-9fbe-4413051d9525",
   "metadata": {},
   "outputs": [
    {
     "name": "stdout",
     "output_type": "stream",
     "text": [
      "      Anxiety  Depression   Insomnia        OCD\n",
      "0    6.732673   16.039604  29.306931  47.920792\n",
      "1   11.618257   16.597510  33.195021  38.589212\n",
      "2   14.193548   28.709677  27.096774  30.000000\n",
      "3   25.896414   22.310757  26.693227  25.099602\n",
      "4   24.770642   26.605505  26.605505  22.018349\n",
      "5   26.696833   24.886878  24.886878  23.529412\n",
      "6   31.558935   33.079848  22.813688  12.547529\n",
      "7   39.403974   31.125828  19.536424   9.933775\n",
      "8   42.481203   28.571429  18.421053  10.526316\n",
      "9   41.085271   28.682171  19.379845  10.852713\n",
      "10  40.625000   26.875000  20.000000  12.500000\n"
     ]
    }
   ],
   "source": [
    "import pandas as pd\n",
    "\n",
    "df = pd.read_csv('cleaned_mxmh_survey_results.csv')\n",
    "\n",
    "conditions = ['Anxiety', 'Depression', 'Insomnia', 'OCD']\n",
    "rating_range = range(11)\n",
    "percentage_by_value = {condition: [] for condition in conditions}\n",
    "\n",
    "for rating in rating_range:\n",
    "    for condition in conditions:\n",
    "        condition_count = (df[condition] == rating).sum()\n",
    "        total_rating_count = sum((df[cond] == rating).sum() for cond in conditions)\n",
    "\n",
    "        if total_rating_count > 0:\n",
    "            percentage = (condition_count / total_rating_count) * 100\n",
    "        else:\n",
    "            percentage = 0\n",
    "\n",
    "        percentage_by_value[condition].append(percentage)\n",
    "\n",
    "percentage_df = pd.DataFrame(percentage_by_value, index=rating_range)\n",
    "\n",
    "percentage_df.to_csv('rating_percentage_by_condition.csv', index_label='Rating')\n",
    "\n",
    "print(percentage_df)"
   ]
  },
  {
   "cell_type": "code",
   "execution_count": null,
   "id": "53e2b644-4079-4853-949c-2cca6db91e63",
   "metadata": {},
   "outputs": [],
   "source": []
  }
 ],
 "metadata": {
  "kernelspec": {
   "display_name": "Python 3 (ipykernel)",
   "language": "python",
   "name": "python3"
  },
  "language_info": {
   "codemirror_mode": {
    "name": "ipython",
    "version": 3
   },
   "file_extension": ".py",
   "mimetype": "text/x-python",
   "name": "python",
   "nbconvert_exporter": "python",
   "pygments_lexer": "ipython3",
   "version": "3.12.4"
  }
 },
 "nbformat": 4,
 "nbformat_minor": 5
}
