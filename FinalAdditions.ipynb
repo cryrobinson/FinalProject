{
 "cells": [
  {
   "cell_type": "code",
   "execution_count": null,
   "id": "ee8f2bc3-8e84-44e3-9fbe-4413051d9525",
   "metadata": {},
   "outputs": [],
   "source": [
    "import pandas as pd\n",
    "\n",
    "df = pd.read_csv('cleaned_mxmh_survey_results.csv')\n",
    "\n",
    "rating_sum = df.groupby('Rating')[['Anxiety', 'Depression', 'Insomnia', 'OCD']].sum()\n",
    "rating_total = rating_sum.sum(axis=1)\n",
    "percentage_by_rating = rating_sum.div(rating_total, axis=0) * 100\n",
    "\n",
    "print(percentage_by_rating)\n",
    "\n",
    "df['Anxiety Rating 10 Percentage'] = df['Rating'].map(percentage_by_rating['Anxiety'])\n",
    "df['Depression Rating 10 Percentage'] = df['Rating'].map(percentage_by_rating['Depression'])\n",
    "df['Insomnia Rating 10 Percentage'] = df['Rating'].map(percentage_by_rating['Insomnia'])\n",
    "df['OCD Rating 10 Percentage'] = df['Rating'].map(percentage_by_rating['OCD'])\n",
    "\n",
    "df.to_csv('updated_cleaned_mxmh_survey_results.csv', index=False)"
   ]
  }
 ],
 "metadata": {
  "kernelspec": {
   "display_name": "Python 3 (ipykernel)",
   "language": "python",
   "name": "python3"
  },
  "language_info": {
   "codemirror_mode": {
    "name": "ipython",
    "version": 3
   },
   "file_extension": ".py",
   "mimetype": "text/x-python",
   "name": "python",
   "nbconvert_exporter": "python",
   "pygments_lexer": "ipython3",
   "version": "3.12.4"
  }
 },
 "nbformat": 4,
 "nbformat_minor": 5
}
